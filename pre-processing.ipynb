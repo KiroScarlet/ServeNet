{
 "cells": [
  {
   "cell_type": "code",
   "execution_count": 3,
   "metadata": {
    "collapsed": true
   },
   "outputs": [],
   "source": [
    "import json\n",
    "import numpy as np\n",
    "import pandas as pd\n",
    "from pandas.io.json import json_normalize"
   ]
  },
  {
   "cell_type": "code",
   "execution_count": 4,
   "metadata": {
    "collapsed": true
   },
   "outputs": [],
   "source": [
    "data = [\n",
    "  {\n",
    "    'name': {\n",
    "      'first': 'vikash',\n",
    "      'last': 'singh'\n",
    "    },\n",
    "    'age': 27\n",
    "  },\n",
    "  {\n",
    "    'name': {\n",
    "      'first': 'satyam',\n",
    "      'last': 'singh'\n",
    "    },\n",
    "    'age': 14\n",
    "  }\n",
    "]\n"
   ]
  },
  {
   "cell_type": "code",
   "execution_count": 5,
   "metadata": {},
   "outputs": [
    {
     "data": {
      "text/html": [
       "<div>\n",
       "<style>\n",
       "    .dataframe thead tr:only-child th {\n",
       "        text-align: right;\n",
       "    }\n",
       "\n",
       "    .dataframe thead th {\n",
       "        text-align: left;\n",
       "    }\n",
       "\n",
       "    .dataframe tbody tr th {\n",
       "        vertical-align: top;\n",
       "    }\n",
       "</style>\n",
       "<table border=\"1\" class=\"dataframe\">\n",
       "  <thead>\n",
       "    <tr style=\"text-align: right;\">\n",
       "      <th></th>\n",
       "      <th>age</th>\n",
       "      <th>name.first</th>\n",
       "      <th>name.last</th>\n",
       "    </tr>\n",
       "  </thead>\n",
       "  <tbody>\n",
       "    <tr>\n",
       "      <th>0</th>\n",
       "      <td>27</td>\n",
       "      <td>vikash</td>\n",
       "      <td>singh</td>\n",
       "    </tr>\n",
       "    <tr>\n",
       "      <th>1</th>\n",
       "      <td>14</td>\n",
       "      <td>satyam</td>\n",
       "      <td>singh</td>\n",
       "    </tr>\n",
       "  </tbody>\n",
       "</table>\n",
       "</div>"
      ],
      "text/plain": [
       "   age name.first name.last\n",
       "0   27     vikash     singh\n",
       "1   14     satyam     singh"
      ]
     },
     "execution_count": 5,
     "metadata": {},
     "output_type": "execute_result"
    }
   ],
   "source": [
    "df = pd.DataFrame.from_dict(json_normalize(data), orient='columns')\n",
    "df"
   ]
  },
  {
   "cell_type": "code",
   "execution_count": 6,
   "metadata": {
    "collapsed": true,
    "scrolled": true
   },
   "outputs": [],
   "source": [
    "with open('ProgrammWebScrapy.txt', encoding='utf-8') as data_file:\n",
    "    f = data_file.read()\n",
    "    data = json.loads(f, strict=False)"
   ]
  },
  {
   "cell_type": "code",
   "execution_count": 12,
   "metadata": {},
   "outputs": [
    {
     "data": {
      "text/plain": [
       "0        [This API is no longer available. Google Maps'...\n",
       "1        [This API is no longer available. It has been ...\n",
       "2        The Data API allows users to integrate their p...\n",
       "3        The Flickr API can be used to retrieve photos ...\n",
       "4        [This API is no longer available. Its function...\n",
       "5        What was formerly the ECSeCommerce Servicehas ...\n",
       "6        Twilio provides a simple hosted API and markup...\n",
       "7        The Last.fm API gives users the ability to bui...\n",
       "8        eBay's primary web services are found in the t...\n",
       "9        Twilio provides a simple hosted API and markup...\n",
       "10       Bing Maps API and Interactive SDK features an ...\n",
       "11       From their site: del.icio.us is a social bookm...\n",
       "12       Use the Google App Engine platform to run web ...\n",
       "13       The Foursquare API provides location based exp...\n",
       "14       From their site: The Google Gadgets API provid...\n",
       "15       DocuSign is a Cloud based legally compliant eS...\n",
       "16       Since 2006 Amazon Web Services has been offeri...\n",
       "17       The Google AdSense API is ideal for developers...\n",
       "18       Geonames is a geographical database with web s...\n",
       "19       The unofficial Wikipedia API. Because Wikipedi...\n",
       "20       Box is a modern content management platform th...\n",
       "21       The Amazon Elastic Compute Cloud (Amazon EC2) ...\n",
       "22       Bing Web Search API provides an experience sim...\n",
       "23       LinkedIn is the world's largest business socia...\n",
       "24       Instagram is a photo sharing iPhone app and se...\n",
       "25       The AJAX Libraries API is a content distributi...\n",
       "26       Per provider, this API will be shutting down o...\n",
       "27       The Yelp Fusion APIs are RESTful APIs and user...\n",
       "28       A State of Trance is a radio show, hosted by A...\n",
       "29       Use the Google Analytics Management API to lev...\n",
       "                               ...                        \n",
       "15314    Use the RatePubs API to get two-way access to ...\n",
       "15315    Use the Wipee List API to extend Wipee List or...\n",
       "15316    Use the VirWoX API to exchange virtual currenc...\n",
       "15317    The OpenEco API allows you to track your green...\n",
       "15318    Encoding.com lets you encode and transcode vid...\n",
       "15319    WebResizer is an image editor you can embed in...\n",
       "15320    Use the Dooblet API to get two alternatives to...\n",
       "15321    The TickSpot API lets you retrieve a list of c...\n",
       "15322    Use the Dilogs API to get your dives, post you...\n",
       "15323    Use the to.uri.st API to access tourist inform...\n",
       "15324    Use the AdSpeed API to access your zones, ads,...\n",
       "15325    Use the Simple DB on AppEngine API to store da...\n",
       "15326    Tweetburner is the webservice that lets you sh...\n",
       "15327    The Wordpot.com API provides functions for gen...\n",
       "15328    Use the FindMeOn API to manage your identities...\n",
       "15329    Use the GoGrid API to do everything programmat...\n",
       "15330    Use the Seattle 2.0 API to get upcoming events...\n",
       "15331    The FreedomSpeaks.com site is the first non-pa...\n",
       "15332    Todoist is an online task manager that current...\n",
       "15333    Ping the Semantic Web is a repository for RDF ...\n",
       "15334    PhoneGnome is a hardware-to-internet service t...\n",
       "15335    Walker Tracker is a site for pedometer enthusi...\n",
       "15336    Use the Dojo Learning API to access lessons, u...\n",
       "15337    LandGrab is an easy-to-play game that connects...\n",
       "15338    IZEARanks provides a blog ranking algorithm an...\n",
       "15339    Use the Mollom API to combat spam. Mollom is a...\n",
       "15340    Use the MailBoxValidator Email Validation Web ...\n",
       "15341    The Weewar API allows you to create notifiers,...\n",
       "15342    This API offers delayed stock quotes for equit...\n",
       "15343    Use the Protein Data Bank Japan (PDBj) API to ...\n",
       "Name: Description, Length: 15344, dtype: object"
      ]
     },
     "execution_count": 12,
     "metadata": {},
     "output_type": "execute_result"
    }
   ],
   "source": [
    "df = pd.DataFrame.from_dict(json_normalize(data), orient='columns')\n",
    "df[df.columns[6]]"
   ]
  },
  {
   "cell_type": "code",
   "execution_count": null,
   "metadata": {
    "collapsed": true
   },
   "outputs": [],
   "source": []
  }
 ],
 "metadata": {
  "kernelspec": {
   "display_name": "Python 3",
   "language": "python",
   "name": "python3"
  },
  "language_info": {
   "codemirror_mode": {
    "name": "ipython",
    "version": 3
   },
   "file_extension": ".py",
   "mimetype": "text/x-python",
   "name": "python",
   "nbconvert_exporter": "python",
   "pygments_lexer": "ipython3",
   "version": "3.6.3"
  }
 },
 "nbformat": 4,
 "nbformat_minor": 2
}
